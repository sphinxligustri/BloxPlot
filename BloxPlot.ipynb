{
 "cells": [
  {
   "cell_type": "code",
   "execution_count": 1,
   "metadata": {
    "collapsed": true
   },
   "outputs": [],
   "source": [
    "# Is it possible to have Tetris in Bokeh!?"
   ]
  },
  {
   "cell_type": "code",
   "execution_count": 1,
   "metadata": {
    "collapsed": false
   },
   "outputs": [
    {
     "data": {
      "text/html": [
       "\n",
       "    <div class=\"bk-root\">\n",
       "        <a href=\"http://bokeh.pydata.org\" target=\"_blank\" class=\"bk-logo bk-logo-small bk-logo-notebook\"></a>\n",
       "        <span id=\"0e8b62c4-be4e-4e33-88e5-202ee332ea60\">Loading BokehJS ...</span>\n",
       "    </div>"
      ]
     },
     "metadata": {},
     "output_type": "display_data"
    },
    {
     "data": {
      "application/javascript": [
       "\n",
       "(function(global) {\n",
       "  function now() {\n",
       "    return new Date();\n",
       "  }\n",
       "\n",
       "  var force = \"1\";\n",
       "\n",
       "  if (typeof (window._bokeh_onload_callbacks) === \"undefined\" || force !== \"\") {\n",
       "    window._bokeh_onload_callbacks = [];\n",
       "    window._bokeh_is_loading = undefined;\n",
       "  }\n",
       "\n",
       "\n",
       "  \n",
       "  if (typeof (window._bokeh_timeout) === \"undefined\" || force !== \"\") {\n",
       "    window._bokeh_timeout = Date.now() + 5000;\n",
       "    window._bokeh_failed_load = false;\n",
       "  }\n",
       "\n",
       "  var NB_LOAD_WARNING = {'data': {'text/html':\n",
       "     \"<div style='background-color: #fdd'>\\n\"+\n",
       "     \"<p>\\n\"+\n",
       "     \"BokehJS does not appear to have successfully loaded. If loading BokehJS from CDN, this \\n\"+\n",
       "     \"may be due to a slow or bad network connection. Possible fixes:\\n\"+\n",
       "     \"</p>\\n\"+\n",
       "     \"<ul>\\n\"+\n",
       "     \"<li>re-rerun `output_notebook()` to attempt to load from CDN again, or</li>\\n\"+\n",
       "     \"<li>use INLINE resources instead, as so:</li>\\n\"+\n",
       "     \"</ul>\\n\"+\n",
       "     \"<code>\\n\"+\n",
       "     \"from bokeh.resources import INLINE\\n\"+\n",
       "     \"output_notebook(resources=INLINE)\\n\"+\n",
       "     \"</code>\\n\"+\n",
       "     \"</div>\"}};\n",
       "\n",
       "  function display_loaded() {\n",
       "    if (window.Bokeh !== undefined) {\n",
       "      Bokeh.$(\"#0e8b62c4-be4e-4e33-88e5-202ee332ea60\").text(\"BokehJS successfully loaded.\");\n",
       "    } else if (Date.now() < window._bokeh_timeout) {\n",
       "      setTimeout(display_loaded, 100)\n",
       "    }\n",
       "  }\n",
       "\n",
       "  function run_callbacks() {\n",
       "    window._bokeh_onload_callbacks.forEach(function(callback) { callback() });\n",
       "    delete window._bokeh_onload_callbacks\n",
       "    console.info(\"Bokeh: all callbacks have finished\");\n",
       "  }\n",
       "\n",
       "  function load_libs(js_urls, callback) {\n",
       "    window._bokeh_onload_callbacks.push(callback);\n",
       "    if (window._bokeh_is_loading > 0) {\n",
       "      console.log(\"Bokeh: BokehJS is being loaded, scheduling callback at\", now());\n",
       "      return null;\n",
       "    }\n",
       "    if (js_urls == null || js_urls.length === 0) {\n",
       "      run_callbacks();\n",
       "      return null;\n",
       "    }\n",
       "    console.log(\"Bokeh: BokehJS not loaded, scheduling load and callback at\", now());\n",
       "    window._bokeh_is_loading = js_urls.length;\n",
       "    for (var i = 0; i < js_urls.length; i++) {\n",
       "      var url = js_urls[i];\n",
       "      var s = document.createElement('script');\n",
       "      s.src = url;\n",
       "      s.async = false;\n",
       "      s.onreadystatechange = s.onload = function() {\n",
       "        window._bokeh_is_loading--;\n",
       "        if (window._bokeh_is_loading === 0) {\n",
       "          console.log(\"Bokeh: all BokehJS libraries loaded\");\n",
       "          run_callbacks()\n",
       "        }\n",
       "      };\n",
       "      s.onerror = function() {\n",
       "        console.warn(\"failed to load library \" + url);\n",
       "      };\n",
       "      console.log(\"Bokeh: injecting script tag for BokehJS library: \", url);\n",
       "      document.getElementsByTagName(\"head\")[0].appendChild(s);\n",
       "    }\n",
       "  };var element = document.getElementById(\"0e8b62c4-be4e-4e33-88e5-202ee332ea60\");\n",
       "  if (element == null) {\n",
       "    console.log(\"Bokeh: ERROR: autoload.js configured with elementid '0e8b62c4-be4e-4e33-88e5-202ee332ea60' but no matching script tag was found. \")\n",
       "    return false;\n",
       "  }\n",
       "\n",
       "  var js_urls = ['https://cdn.pydata.org/bokeh/release/bokeh-0.12.3.min.js', 'https://cdn.pydata.org/bokeh/release/bokeh-widgets-0.12.3.min.js'];\n",
       "\n",
       "  var inline_js = [\n",
       "    function(Bokeh) {\n",
       "      Bokeh.set_log_level(\"info\");\n",
       "    },\n",
       "    \n",
       "    function(Bokeh) {\n",
       "      \n",
       "      Bokeh.$(\"#0e8b62c4-be4e-4e33-88e5-202ee332ea60\").text(\"BokehJS is loading...\");\n",
       "    },\n",
       "    function(Bokeh) {\n",
       "      console.log(\"Bokeh: injecting CSS: https://cdn.pydata.org/bokeh/release/bokeh-0.12.3.min.css\");\n",
       "      Bokeh.embed.inject_css(\"https://cdn.pydata.org/bokeh/release/bokeh-0.12.3.min.css\");\n",
       "      console.log(\"Bokeh: injecting CSS: https://cdn.pydata.org/bokeh/release/bokeh-widgets-0.12.3.min.css\");\n",
       "      Bokeh.embed.inject_css(\"https://cdn.pydata.org/bokeh/release/bokeh-widgets-0.12.3.min.css\");\n",
       "    }\n",
       "  ];\n",
       "\n",
       "  function run_inline_js() {\n",
       "    \n",
       "    if ((window.Bokeh !== undefined) || (force === \"1\")) {\n",
       "      for (var i = 0; i < inline_js.length; i++) {\n",
       "        inline_js[i](window.Bokeh);\n",
       "      }if (force === \"1\") {\n",
       "        display_loaded();\n",
       "      }} else if (Date.now() < window._bokeh_timeout) {\n",
       "      setTimeout(run_inline_js, 100);\n",
       "    } else if (!window._bokeh_failed_load) {\n",
       "      console.log(\"Bokeh: BokehJS failed to load within specified timeout.\");\n",
       "      window._bokeh_failed_load = true;\n",
       "    } else if (!force) {\n",
       "      var cell = $(\"#0e8b62c4-be4e-4e33-88e5-202ee332ea60\").parents('.cell').data().cell;\n",
       "      cell.output_area.append_execute_result(NB_LOAD_WARNING)\n",
       "    }\n",
       "\n",
       "  }\n",
       "\n",
       "  if (window._bokeh_is_loading === 0) {\n",
       "    console.log(\"Bokeh: BokehJS loaded, going straight to plotting\");\n",
       "    run_inline_js();\n",
       "  } else {\n",
       "    load_libs(js_urls, function() {\n",
       "      console.log(\"Bokeh: BokehJS plotting callback run at\", now());\n",
       "      run_inline_js();\n",
       "    });\n",
       "  }\n",
       "}(this));"
      ]
     },
     "metadata": {},
     "output_type": "display_data"
    }
   ],
   "source": [
    "from ipywidgets import interact\n",
    "import numpy as np\n",
    "\n",
    "from bokeh.io import push_notebook, show, output_notebook\n",
    "from bokeh.plotting import figure\n",
    "from bokeh.models.widgets import Toggle\n",
    "\n",
    "output_notebook()"
   ]
  },
  {
   "cell_type": "code",
   "execution_count": 2,
   "metadata": {
    "collapsed": false
   },
   "outputs": [],
   "source": [
    "import random \n",
    "\n",
    "# shapes\n",
    "class Model:\n",
    "    ''''''\n",
    "    def __init__(self, name, pop, color):\n",
    "        self.name = name\n",
    "        self.pop = pop\n",
    "        self.color = color\n",
    "\n",
    "O = Model('O',\\\n",
    "          [[(0,0),(0,1),(1,0),(1,1)]],\\\n",
    "          'magenta')\n",
    "I = Model('I',\\\n",
    "          [[(0,0),(1,0),(2,0),(3,0)],\\\n",
    "           [(0,0),(0,1),(0,2),(0,3)]],\n",
    "          'salmon')\n",
    "Z = Model('Z',\\\n",
    "          [[(0,1),(1,1),(1,0),(2,0)],\\\n",
    "           [(0,0),(0,1),(1,1),(1,2)]],\\\n",
    "         'green')\n",
    "S = Model('S',\\\n",
    "          [[(0,0),(1,0),(1,1),(2,1)],\\\n",
    "           [(1,0),(1,1),(0,1),(0,2)]],\\\n",
    "         'yellow')\n",
    "T = Model('T',\\\n",
    "          [[(0,0),(1,0),(1,1),(2,0)],\\\n",
    "           [(1,0),(1,1),(0,1),(1,2)],\\\n",
    "           [(0,1),(1,1),(1,0),(2,1)],\\\n",
    "           [(0,0),(0,1),(1,1),(0,2)]],\\\n",
    "         'olive')\n",
    "\n",
    "models = [O, I, Z, S, T]\n",
    "model = random.choice(models)\n",
    "shape = model.pop[0]\n",
    "\n",
    "x, y = zip(*shape)"
   ]
  },
  {
   "cell_type": "code",
   "execution_count": 7,
   "metadata": {
    "collapsed": false
   },
   "outputs": [],
   "source": [
    "p = figure(title=\"simple tetris\", plot_height=400, plot_width=400, x_range=(-1,10), y_range=(-1,10))\n",
    "r = p.rect(x, y, color=\"#2222aa\", height=1, width=1)"
   ]
  },
  {
   "cell_type": "code",
   "execution_count": 8,
   "metadata": {
    "collapsed": false,
    "scrolled": true
   },
   "outputs": [
    {
     "data": {
      "text/html": [
       "\n",
       "\n",
       "    <div class=\"bk-root\">\n",
       "        <div class=\"plotdiv\" id=\"f58c58f9-d460-4bcc-85b0-218f968ac1a6\"></div>\n",
       "    </div>\n",
       "<script type=\"text/javascript\">\n",
       "  \n",
       "  (function(global) {\n",
       "    function now() {\n",
       "      return new Date();\n",
       "    }\n",
       "  \n",
       "    var force = \"\";\n",
       "  \n",
       "    if (typeof (window._bokeh_onload_callbacks) === \"undefined\" || force !== \"\") {\n",
       "      window._bokeh_onload_callbacks = [];\n",
       "      window._bokeh_is_loading = undefined;\n",
       "    }\n",
       "  \n",
       "  \n",
       "    \n",
       "    if (typeof (window._bokeh_timeout) === \"undefined\" || force !== \"\") {\n",
       "      window._bokeh_timeout = Date.now() + 0;\n",
       "      window._bokeh_failed_load = false;\n",
       "    }\n",
       "  \n",
       "    var NB_LOAD_WARNING = {'data': {'text/html':\n",
       "       \"<div style='background-color: #fdd'>\\n\"+\n",
       "       \"<p>\\n\"+\n",
       "       \"BokehJS does not appear to have successfully loaded. If loading BokehJS from CDN, this \\n\"+\n",
       "       \"may be due to a slow or bad network connection. Possible fixes:\\n\"+\n",
       "       \"</p>\\n\"+\n",
       "       \"<ul>\\n\"+\n",
       "       \"<li>re-rerun `output_notebook()` to attempt to load from CDN again, or</li>\\n\"+\n",
       "       \"<li>use INLINE resources instead, as so:</li>\\n\"+\n",
       "       \"</ul>\\n\"+\n",
       "       \"<code>\\n\"+\n",
       "       \"from bokeh.resources import INLINE\\n\"+\n",
       "       \"output_notebook(resources=INLINE)\\n\"+\n",
       "       \"</code>\\n\"+\n",
       "       \"</div>\"}};\n",
       "  \n",
       "    function display_loaded() {\n",
       "      if (window.Bokeh !== undefined) {\n",
       "        Bokeh.$(\"#f58c58f9-d460-4bcc-85b0-218f968ac1a6\").text(\"BokehJS successfully loaded.\");\n",
       "      } else if (Date.now() < window._bokeh_timeout) {\n",
       "        setTimeout(display_loaded, 100)\n",
       "      }\n",
       "    }if ((window.Jupyter !== undefined) && Jupyter.notebook.kernel) {\n",
       "      comm_manager = Jupyter.notebook.kernel.comm_manager\n",
       "      comm_manager.register_target(\"fac3e273-bd1a-45a1-82d3-6f709eb3f3c8\", function () {});\n",
       "    }\n",
       "  \n",
       "    function run_callbacks() {\n",
       "      window._bokeh_onload_callbacks.forEach(function(callback) { callback() });\n",
       "      delete window._bokeh_onload_callbacks\n",
       "      console.info(\"Bokeh: all callbacks have finished\");\n",
       "    }\n",
       "  \n",
       "    function load_libs(js_urls, callback) {\n",
       "      window._bokeh_onload_callbacks.push(callback);\n",
       "      if (window._bokeh_is_loading > 0) {\n",
       "        console.log(\"Bokeh: BokehJS is being loaded, scheduling callback at\", now());\n",
       "        return null;\n",
       "      }\n",
       "      if (js_urls == null || js_urls.length === 0) {\n",
       "        run_callbacks();\n",
       "        return null;\n",
       "      }\n",
       "      console.log(\"Bokeh: BokehJS not loaded, scheduling load and callback at\", now());\n",
       "      window._bokeh_is_loading = js_urls.length;\n",
       "      for (var i = 0; i < js_urls.length; i++) {\n",
       "        var url = js_urls[i];\n",
       "        var s = document.createElement('script');\n",
       "        s.src = url;\n",
       "        s.async = false;\n",
       "        s.onreadystatechange = s.onload = function() {\n",
       "          window._bokeh_is_loading--;\n",
       "          if (window._bokeh_is_loading === 0) {\n",
       "            console.log(\"Bokeh: all BokehJS libraries loaded\");\n",
       "            run_callbacks()\n",
       "          }\n",
       "        };\n",
       "        s.onerror = function() {\n",
       "          console.warn(\"failed to load library \" + url);\n",
       "        };\n",
       "        console.log(\"Bokeh: injecting script tag for BokehJS library: \", url);\n",
       "        document.getElementsByTagName(\"head\")[0].appendChild(s);\n",
       "      }\n",
       "    };var element = document.getElementById(\"f58c58f9-d460-4bcc-85b0-218f968ac1a6\");\n",
       "    if (element == null) {\n",
       "      console.log(\"Bokeh: ERROR: autoload.js configured with elementid 'f58c58f9-d460-4bcc-85b0-218f968ac1a6' but no matching script tag was found. \")\n",
       "      return false;\n",
       "    }\n",
       "  \n",
       "    var js_urls = [];\n",
       "  \n",
       "    var inline_js = [\n",
       "      function(Bokeh) {\n",
       "        Bokeh.$(function() {\n",
       "            var docs_json = {\"709084ca-311f-4232-b9de-82b5102aac26\":{\"roots\":{\"references\":[{\"attributes\":{\"plot\":{\"id\":\"3f87c4e1-d9d9-4e40-b5a2-081484806e42\",\"subtype\":\"Figure\",\"type\":\"Plot\"}},\"id\":\"cbf1fb4d-fc51-454f-950e-e07e162aae9a\",\"type\":\"SaveTool\"},{\"attributes\":{\"below\":[{\"id\":\"1f8b4e98-2749-4086-9adb-2b26bef2b8a4\",\"type\":\"LinearAxis\"}],\"left\":[{\"id\":\"e5d7e9ed-c228-42e2-bd15-ce8acb2a8471\",\"type\":\"LinearAxis\"}],\"plot_height\":400,\"plot_width\":400,\"renderers\":[{\"id\":\"1f8b4e98-2749-4086-9adb-2b26bef2b8a4\",\"type\":\"LinearAxis\"},{\"id\":\"aca43cda-8ec7-4080-90c0-d9a42d183e2b\",\"type\":\"Grid\"},{\"id\":\"e5d7e9ed-c228-42e2-bd15-ce8acb2a8471\",\"type\":\"LinearAxis\"},{\"id\":\"82333a36-523b-4bca-a8f8-cbf6b35ec9ca\",\"type\":\"Grid\"},{\"id\":\"bc9282ea-35a3-4d89-8e12-1f94004c684e\",\"type\":\"BoxAnnotation\"},{\"id\":\"87b6757e-8a73-4ce1-80a5-a399a5c1cad5\",\"type\":\"GlyphRenderer\"}],\"title\":{\"id\":\"62261e0f-c99f-42f9-b339-d75454818b0e\",\"type\":\"Title\"},\"tool_events\":{\"id\":\"f9a8b583-0b3e-4f43-b79f-5d64816e3453\",\"type\":\"ToolEvents\"},\"toolbar\":{\"id\":\"30060298-f764-4c71-a8e4-dcf660e2f9ec\",\"type\":\"Toolbar\"},\"x_range\":{\"id\":\"e9cd8a99-d9d3-4f85-afe7-2a3d90a1291f\",\"type\":\"Range1d\"},\"y_range\":{\"id\":\"12175717-03e2-4b30-9fba-e55e2b9c7cae\",\"type\":\"Range1d\"}},\"id\":\"3f87c4e1-d9d9-4e40-b5a2-081484806e42\",\"subtype\":\"Figure\",\"type\":\"Plot\"},{\"attributes\":{\"overlay\":{\"id\":\"bc9282ea-35a3-4d89-8e12-1f94004c684e\",\"type\":\"BoxAnnotation\"},\"plot\":{\"id\":\"3f87c4e1-d9d9-4e40-b5a2-081484806e42\",\"subtype\":\"Figure\",\"type\":\"Plot\"}},\"id\":\"1c84376c-c3c5-4dc9-8e02-c11378884746\",\"type\":\"BoxZoomTool\"},{\"attributes\":{},\"id\":\"15f8b035-3238-4365-b2b6-c5f71a968e52\",\"type\":\"BasicTicker\"},{\"attributes\":{},\"id\":\"56642ded-cd62-48cb-952d-58a17d2556d8\",\"type\":\"BasicTickFormatter\"},{\"attributes\":{},\"id\":\"ee98b9cf-21e3-4efd-8fff-7aa8bb52403a\",\"type\":\"BasicTickFormatter\"},{\"attributes\":{\"callback\":null,\"end\":10,\"start\":-1},\"id\":\"e9cd8a99-d9d3-4f85-afe7-2a3d90a1291f\",\"type\":\"Range1d\"},{\"attributes\":{\"callback\":null,\"end\":10,\"start\":-1},\"id\":\"12175717-03e2-4b30-9fba-e55e2b9c7cae\",\"type\":\"Range1d\"},{\"attributes\":{\"fill_color\":{\"value\":\"#2222aa\"},\"height\":{\"units\":\"data\",\"value\":1},\"line_color\":{\"value\":\"#2222aa\"},\"width\":{\"units\":\"data\",\"value\":1},\"x\":{\"field\":\"x\"},\"y\":{\"field\":\"y\"}},\"id\":\"314f032c-4dfa-4c47-a0df-c5bb7740f3c7\",\"type\":\"Rect\"},{\"attributes\":{\"bottom_units\":\"screen\",\"fill_alpha\":{\"value\":0.5},\"fill_color\":{\"value\":\"lightgrey\"},\"left_units\":\"screen\",\"level\":\"overlay\",\"line_alpha\":{\"value\":1.0},\"line_color\":{\"value\":\"black\"},\"line_dash\":[4,4],\"line_width\":{\"value\":2},\"plot\":null,\"render_mode\":\"css\",\"right_units\":\"screen\",\"top_units\":\"screen\"},\"id\":\"bc9282ea-35a3-4d89-8e12-1f94004c684e\",\"type\":\"BoxAnnotation\"},{\"attributes\":{\"active_drag\":\"auto\",\"active_scroll\":\"auto\",\"active_tap\":\"auto\",\"tools\":[{\"id\":\"12c9a3fb-4b63-4ae4-8aee-8173ac70c5ab\",\"type\":\"PanTool\"},{\"id\":\"a95c4b43-1c3d-4ce6-8035-22e35d708ab7\",\"type\":\"WheelZoomTool\"},{\"id\":\"1c84376c-c3c5-4dc9-8e02-c11378884746\",\"type\":\"BoxZoomTool\"},{\"id\":\"cbf1fb4d-fc51-454f-950e-e07e162aae9a\",\"type\":\"SaveTool\"},{\"id\":\"8716138f-efd0-443a-8132-18e35cfd26a0\",\"type\":\"ResetTool\"},{\"id\":\"9bc9278e-0068-4a94-be0b-2a838ce337c6\",\"type\":\"HelpTool\"}]},\"id\":\"30060298-f764-4c71-a8e4-dcf660e2f9ec\",\"type\":\"Toolbar\"},{\"attributes\":{\"plot\":null,\"text\":\"simple tetris\"},\"id\":\"62261e0f-c99f-42f9-b339-d75454818b0e\",\"type\":\"Title\"},{\"attributes\":{\"fill_alpha\":{\"value\":0.1},\"fill_color\":{\"value\":\"#1f77b4\"},\"height\":{\"units\":\"data\",\"value\":1},\"line_alpha\":{\"value\":0.1},\"line_color\":{\"value\":\"#1f77b4\"},\"width\":{\"units\":\"data\",\"value\":1},\"x\":{\"field\":\"x\"},\"y\":{\"field\":\"y\"}},\"id\":\"cce18a28-d6ad-4346-ac15-6d16d95e5446\",\"type\":\"Rect\"},{\"attributes\":{\"dimension\":1,\"plot\":{\"id\":\"3f87c4e1-d9d9-4e40-b5a2-081484806e42\",\"subtype\":\"Figure\",\"type\":\"Plot\"},\"ticker\":{\"id\":\"677acbae-e00e-40c0-991f-ecb5570701c0\",\"type\":\"BasicTicker\"}},\"id\":\"82333a36-523b-4bca-a8f8-cbf6b35ec9ca\",\"type\":\"Grid\"},{\"attributes\":{\"plot\":{\"id\":\"3f87c4e1-d9d9-4e40-b5a2-081484806e42\",\"subtype\":\"Figure\",\"type\":\"Plot\"}},\"id\":\"a95c4b43-1c3d-4ce6-8035-22e35d708ab7\",\"type\":\"WheelZoomTool\"},{\"attributes\":{\"data_source\":{\"id\":\"32a372fc-c839-48e2-a7cc-890a8bd38798\",\"type\":\"ColumnDataSource\"},\"glyph\":{\"id\":\"314f032c-4dfa-4c47-a0df-c5bb7740f3c7\",\"type\":\"Rect\"},\"hover_glyph\":null,\"nonselection_glyph\":{\"id\":\"cce18a28-d6ad-4346-ac15-6d16d95e5446\",\"type\":\"Rect\"},\"selection_glyph\":null},\"id\":\"87b6757e-8a73-4ce1-80a5-a399a5c1cad5\",\"type\":\"GlyphRenderer\"},{\"attributes\":{},\"id\":\"f9a8b583-0b3e-4f43-b79f-5d64816e3453\",\"type\":\"ToolEvents\"},{\"attributes\":{},\"id\":\"677acbae-e00e-40c0-991f-ecb5570701c0\",\"type\":\"BasicTicker\"},{\"attributes\":{\"plot\":{\"id\":\"3f87c4e1-d9d9-4e40-b5a2-081484806e42\",\"subtype\":\"Figure\",\"type\":\"Plot\"}},\"id\":\"9bc9278e-0068-4a94-be0b-2a838ce337c6\",\"type\":\"HelpTool\"},{\"attributes\":{\"callback\":null,\"column_names\":[\"x\",\"y\"],\"data\":{\"x\":[0,1,1,2],\"y\":[1,1,0,0]}},\"id\":\"32a372fc-c839-48e2-a7cc-890a8bd38798\",\"type\":\"ColumnDataSource\"},{\"attributes\":{\"formatter\":{\"id\":\"ee98b9cf-21e3-4efd-8fff-7aa8bb52403a\",\"type\":\"BasicTickFormatter\"},\"plot\":{\"id\":\"3f87c4e1-d9d9-4e40-b5a2-081484806e42\",\"subtype\":\"Figure\",\"type\":\"Plot\"},\"ticker\":{\"id\":\"677acbae-e00e-40c0-991f-ecb5570701c0\",\"type\":\"BasicTicker\"}},\"id\":\"e5d7e9ed-c228-42e2-bd15-ce8acb2a8471\",\"type\":\"LinearAxis\"},{\"attributes\":{\"plot\":{\"id\":\"3f87c4e1-d9d9-4e40-b5a2-081484806e42\",\"subtype\":\"Figure\",\"type\":\"Plot\"},\"ticker\":{\"id\":\"15f8b035-3238-4365-b2b6-c5f71a968e52\",\"type\":\"BasicTicker\"}},\"id\":\"aca43cda-8ec7-4080-90c0-d9a42d183e2b\",\"type\":\"Grid\"},{\"attributes\":{\"plot\":{\"id\":\"3f87c4e1-d9d9-4e40-b5a2-081484806e42\",\"subtype\":\"Figure\",\"type\":\"Plot\"}},\"id\":\"8716138f-efd0-443a-8132-18e35cfd26a0\",\"type\":\"ResetTool\"},{\"attributes\":{\"plot\":{\"id\":\"3f87c4e1-d9d9-4e40-b5a2-081484806e42\",\"subtype\":\"Figure\",\"type\":\"Plot\"}},\"id\":\"12c9a3fb-4b63-4ae4-8aee-8173ac70c5ab\",\"type\":\"PanTool\"},{\"attributes\":{\"formatter\":{\"id\":\"56642ded-cd62-48cb-952d-58a17d2556d8\",\"type\":\"BasicTickFormatter\"},\"plot\":{\"id\":\"3f87c4e1-d9d9-4e40-b5a2-081484806e42\",\"subtype\":\"Figure\",\"type\":\"Plot\"},\"ticker\":{\"id\":\"15f8b035-3238-4365-b2b6-c5f71a968e52\",\"type\":\"BasicTicker\"}},\"id\":\"1f8b4e98-2749-4086-9adb-2b26bef2b8a4\",\"type\":\"LinearAxis\"}],\"root_ids\":[\"3f87c4e1-d9d9-4e40-b5a2-081484806e42\"]},\"title\":\"Bokeh Application\",\"version\":\"0.12.3\"}};\n",
       "            var render_items = [{\"docid\":\"709084ca-311f-4232-b9de-82b5102aac26\",\"elementid\":\"f58c58f9-d460-4bcc-85b0-218f968ac1a6\",\"modelid\":\"3f87c4e1-d9d9-4e40-b5a2-081484806e42\",\"notebook_comms_target\":\"fac3e273-bd1a-45a1-82d3-6f709eb3f3c8\"}];\n",
       "            \n",
       "            Bokeh.embed.embed_items(docs_json, render_items);\n",
       "        });\n",
       "      },\n",
       "      function(Bokeh) {\n",
       "      }\n",
       "    ];\n",
       "  \n",
       "    function run_inline_js() {\n",
       "      \n",
       "      if ((window.Bokeh !== undefined) || (force === \"1\")) {\n",
       "        for (var i = 0; i < inline_js.length; i++) {\n",
       "          inline_js[i](window.Bokeh);\n",
       "        }if (force === \"1\") {\n",
       "          display_loaded();\n",
       "        }} else if (Date.now() < window._bokeh_timeout) {\n",
       "        setTimeout(run_inline_js, 100);\n",
       "      } else if (!window._bokeh_failed_load) {\n",
       "        console.log(\"Bokeh: BokehJS failed to load within specified timeout.\");\n",
       "        window._bokeh_failed_load = true;\n",
       "      } else if (!force) {\n",
       "        var cell = $(\"#f58c58f9-d460-4bcc-85b0-218f968ac1a6\").parents('.cell').data().cell;\n",
       "        cell.output_area.append_execute_result(NB_LOAD_WARNING)\n",
       "      }\n",
       "  \n",
       "    }\n",
       "  \n",
       "    if (window._bokeh_is_loading === 0) {\n",
       "      console.log(\"Bokeh: BokehJS loaded, going straight to plotting\");\n",
       "      run_inline_js();\n",
       "    } else {\n",
       "      load_libs(js_urls, function() {\n",
       "        console.log(\"Bokeh: BokehJS plotting callback run at\", now());\n",
       "        run_inline_js();\n",
       "      });\n",
       "    }\n",
       "  }(this));\n",
       "</script>"
      ]
     },
     "metadata": {},
     "output_type": "display_data"
    },
    {
     "data": {
      "text/html": [
       "<p><code>&lt;Bokeh Notebook handle for <strong>In[8]</strong>&gt;</code></p>"
      ],
      "text/plain": [
       "<bokeh.io._CommsHandle at 0x7f20e6dc9b38>"
      ]
     },
     "execution_count": 8,
     "metadata": {},
     "output_type": "execute_result"
    }
   ],
   "source": [
    "show(p, notebook_handle=True)"
   ]
  },
  {
   "cell_type": "code",
   "execution_count": 36,
   "metadata": {
    "collapsed": false
   },
   "outputs": [],
   "source": [
    "#interact(update, f=[\"sin\", \"cos\", \"tan\"], w=(0,100), A=(1,5), phi=(0, 20, 0.1))"
   ]
  },
  {
   "cell_type": "code",
   "execution_count": null,
   "metadata": {
    "collapsed": true
   },
   "outputs": [],
   "source": [
    "from time import sleep\n",
    "import threading"
   ]
  },
  {
   "cell_type": "code",
   "execution_count": null,
   "metadata": {
    "collapsed": true
   },
   "outputs": [],
   "source": []
  },
  {
   "cell_type": "code",
   "execution_count": 2,
   "metadata": {
    "collapsed": false
   },
   "outputs": [],
   "source": [
    "# initiate .. \n",
    "long = 5 # width/2\n",
    "lat = 6 # height\n",
    "tick = 0\n",
    "\n",
    "# if the world is empty, bricks will fall forever\n",
    "wall = [] \n",
    "\n",
    "# re-initiate\n",
    "def re_initiate():\n",
    "    global long, lat, tick\n",
    "    long, lat, tick = 5, 6, 0\n"
   ]
  },
  {
   "cell_type": "code",
   "execution_count": 3,
   "metadata": {
    "collapsed": true
   },
   "outputs": [],
   "source": [
    "# move\n",
    "def move_trans(shape, pos, dir):\n",
    "    if 0 not in dir:\n",
    "        # illegal move, discard\n",
    "        continue\n",
    "    moved_shape = [(s + pos[0], t + pos[1]) for (s, t) in shape]\n",
    "    return moved_shape\n",
    "\n",
    "def move_rotate(model, iteration):\n",
    "    moved_shape = model.pop[iteration % len(model.pop)]\n",
    "    return moved_shape"
   ]
  },
  {
   "cell_type": "code",
   "execution_count": null,
   "metadata": {
    "collapsed": true
   },
   "outputs": [],
   "source": [
    "# check for collision\n",
    "def is_collision(moved_shape, wall):\n",
    "    global long\n",
    "    result = None\n",
    "    for point in moved_shape:\n",
    "        if point in wall or 0 in point[1]:\n",
    "            result = 'bottom'\n",
    "            if point[1] >= lat:\n",
    "                result = 'top'\n",
    "        elif point[0] < 0:\n",
    "            result = 'left'\n",
    "        elif point[0] > 2*long:\n",
    "            result = 'right''\n",
    "        #\n",
    "        if result is not None:\n",
    "            return result\n",
    "    return result\n"
   ]
  },
  {
   "cell_type": "code",
   "execution_count": null,
   "metadata": {
    "collapsed": true
   },
   "outputs": [],
   "source": [
    "# Add brick to wall\n",
    "def add_to_wall(shape, pos):\n",
    "    global wall\n",
    "    wall.append(shape)"
   ]
  },
  {
   "cell_type": "code",
   "execution_count": null,
   "metadata": {
    "collapsed": true
   },
   "outputs": [],
   "source": [
    "# collapse level\n",
    "def collapse_complete_levels():\n",
    "    '''if a level is all bricks, remove from wall'''\n",
    "    global long\n",
    "    columns, levels = zip(*wall)\n",
    "    complete_levels = [l for l in levels if levels.count(l)>=threshold]\n",
    "    new_wall = [p for p in wall if p[1] not in complete_levels]        \n",
    "    return new_wall"
   ]
  },
  {
   "cell_type": "code",
   "execution_count": 9,
   "metadata": {
    "collapsed": false
   },
   "outputs": [],
   "source": [
    "\n",
    "#\n",
    "def tetris_event_loop():\n",
    "    global start, long, lat, tick\n",
    "    r.data_source.data['y'] = [lat - offset - (tick % lat)]     \n",
    "    r.data_source.data['x'] = [long]\n",
    "    sleep(1)\n",
    "    tick += 1\n",
    "    # if collision and y==height > Game Over!\n",
    "    # if collision > reset timer, new block\n",
    "    push_notebook()    \n",
    "    threading.Timer(0.5, tetris_event_loop).start()\n"
   ]
  },
  {
   "cell_type": "code",
   "execution_count": 10,
   "metadata": {
    "collapsed": false
   },
   "outputs": [],
   "source": [
    "tetris_event_loop()"
   ]
  },
  {
   "cell_type": "code",
   "execution_count": 13,
   "metadata": {
    "collapsed": false
   },
   "outputs": [],
   "source": [
    "#!cat lines.html"
   ]
  },
  {
   "cell_type": "code",
   "execution_count": null,
   "metadata": {
    "collapsed": false
   },
   "outputs": [],
   "source": []
  },
  {
   "cell_type": "code",
   "execution_count": 38,
   "metadata": {
    "collapsed": false
   },
   "outputs": [
    {
     "name": "stdout",
     "output_type": "stream",
     "text": [
      "[(0, 0), (0, 1), (1, 0), (1, 1)]\n"
     ]
    }
   ],
   "source": [
    "import random \n",
    "model = random.choice(models)\n",
    "\n",
    "for i in range(0,len(model.pop)):\n",
    "    shape = model.pop[i % len(model.pop)]\n",
    "    print(shape)\n"
   ]
  },
  {
   "cell_type": "code",
   "execution_count": 18,
   "metadata": {
    "collapsed": false
   },
   "outputs": [],
   "source": [
    "def move(dir, pos, shape):\n",
    "    return None\n",
    "\n",
    "def rotate(pos, shape):\n",
    "    return None\n",
    "\n",
    "def drop(pos, shape):\n",
    "    return None"
   ]
  },
  {
   "cell_type": "code",
   "execution_count": null,
   "metadata": {
    "collapsed": true
   },
   "outputs": [],
   "source": []
  }
 ],
 "metadata": {
  "kernelspec": {
   "display_name": "Python 3",
   "language": "python",
   "name": "python3"
  },
  "language_info": {
   "codemirror_mode": {
    "name": "ipython",
    "version": 3
   },
   "file_extension": ".py",
   "mimetype": "text/x-python",
   "name": "python",
   "nbconvert_exporter": "python",
   "pygments_lexer": "ipython3",
   "version": "3.5.2"
  }
 },
 "nbformat": 4,
 "nbformat_minor": 1
}
